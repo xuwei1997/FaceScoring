{
 "cells": [
  {
   "cell_type": "markdown",
   "metadata": {
    "id": "view-in-github",
    "colab_type": "text"
   },
   "source": [
    "<a href=\"https://colab.research.google.com/github/xuwei1997/FaceScoring/blob/master/run.ipynb\" target=\"_parent\"><img src=\"https://colab.research.google.com/assets/colab-badge.svg\" alt=\"Open In Colab\"/></a>"
   ]
  },
  {
   "cell_type": "code",
   "execution_count": 4,
   "metadata": {
    "id": "bNsH47cNqfgO",
    "colab_type": "code",
    "colab": {
     "base_uri": "https://localhost:8080/",
     "height": 233.0
    },
    "outputId": "a4e74596-10d5-410f-a938-df578bd62390"
   },
   "outputs": [
    {
     "name": "stdout",
     "output_type": "stream",
     "text": [
      "E: Package 'python-software-properties' has no installation candidate\n",
      "Selecting previously unselected package google-drive-ocamlfuse.\n",
      "(Reading database ... 131352 files and directories currently installed.)\n",
      "Preparing to unpack .../google-drive-ocamlfuse_0.7.1-0ubuntu3~ubuntu18.04.1_amd64.deb ...\n",
      "Unpacking google-drive-ocamlfuse (0.7.1-0ubuntu3~ubuntu18.04.1) ...\n",
      "Setting up google-drive-ocamlfuse (0.7.1-0ubuntu3~ubuntu18.04.1) ...\n",
      "Processing triggers for man-db (2.8.3-2ubuntu0.1) ...\n",
      "Please, open the following URL in a web browser: https://accounts.google.com/o/oauth2/auth?client_id=32555940559.apps.googleusercontent.com&redirect_uri=urn%3Aietf%3Awg%3Aoauth%3A2.0%3Aoob&scope=https%3A%2F%2Fwww.googleapis.com%2Fauth%2Fdrive&response_type=code&access_type=offline&approval_prompt=force\n",
      "··········\n",
      "Please, open the following URL in a web browser: https://accounts.google.com/o/oauth2/auth?client_id=32555940559.apps.googleusercontent.com&redirect_uri=urn%3Aietf%3Awg%3Aoauth%3A2.0%3Aoob&scope=https%3A%2F%2Fwww.googleapis.com%2Fauth%2Fdrive&response_type=code&access_type=offline&approval_prompt=force\n",
      "Please enter the verification code: Access token retrieved correctly.\n"
     ]
    }
   ],
   "source": [
    "!apt-get install -y -qq software-properties-common python-software-properties module-init-tools\n",
    "!add-apt-repository -y ppa:alessandro-strada/ppa 2>&1 > /dev/null\n",
    "!apt-get update -qq 2>&1 > /dev/null\n",
    "!apt-get -y install -qq google-drive-ocamlfuse fuse\n",
    "from google.colab import auth\n",
    "auth.authenticate_user()\n",
    "from oauth2client.client import GoogleCredentials\n",
    "creds = GoogleCredentials.get_application_default()\n",
    "import getpass\n",
    "!google-drive-ocamlfuse -headless -id={creds.client_id} -secret={creds.client_secret} < /dev/null 2>&1 | grep URL\n",
    "vcode = getpass.getpass()\n",
    "!echo {vcode} | google-drive-ocamlfuse -headless -id={creds.client_id} -secret={creds.client_secret}"
   ]
  },
  {
   "cell_type": "code",
   "execution_count": 0,
   "metadata": {
    "id": "1G2PddRtqoiB",
    "colab_type": "code",
    "colab": {}
   },
   "outputs": [],
   "source": [
    "#!mkdir -p drive\n",
    "!google-drive-ocamlfuse drive"
   ]
  },
  {
   "cell_type": "code",
   "execution_count": 1,
   "metadata": {
    "id": "m1ROsJfMqsD7",
    "colab_type": "code",
    "colab": {
     "base_uri": "https://localhost:8080/",
     "height": 35.0
    },
    "outputId": "25c850fc-02e7-4dfd-c822-f0c661d1bac0"
   },
   "outputs": [
    {
     "data": {
      "text/plain": [
       "'/device:GPU:0'"
      ]
     },
     "execution_count": 1,
     "metadata": {
      "tags": []
     },
     "output_type": "execute_result"
    }
   ],
   "source": [
    "import tensorflow as tf\n",
    "tf.test.gpu_device_name()"
   ]
  },
  {
   "cell_type": "code",
   "execution_count": 1,
   "metadata": {
    "id": "TJQJah4nqv0P",
    "colab_type": "code",
    "colab": {
     "base_uri": "https://localhost:8080/",
     "height": 1432.0
    },
    "outputId": "540757ea-8568-45a2-cf4f-f002e9be3207"
   },
   "outputs": [
    {
     "name": "stderr",
     "output_type": "stream",
     "text": [
      "Using TensorFlow backend.\n"
     ]
    },
    {
     "name": "stdout",
     "output_type": "stream",
     "text": [
      "read the data\n",
      "train data and test data\n",
      "WARNING:tensorflow:From /usr/local/lib/python3.6/dist-packages/tensorflow/python/framework/op_def_library.py:263: colocate_with (from tensorflow.python.framework.ops) is deprecated and will be removed in a future version.\n",
      "Instructions for updating:\n",
      "Colocations handled automatically by placer.\n",
      "_________________________________________________________________\n",
      "Layer (type)                 Output Shape              Param #   \n",
      "=================================================================\n",
      "resnet50 (Model)             (None, 2048)              23587712  \n",
      "_________________________________________________________________\n",
      "dense_1 (Dense)              (None, 1)                 2049      \n",
      "=================================================================\n",
      "Total params: 23,589,761\n",
      "Trainable params: 23,536,641\n",
      "Non-trainable params: 53,120\n",
      "_________________________________________________________________\n",
      "None\n",
      "compile\n",
      "fit\n",
      "WARNING:tensorflow:From /usr/local/lib/python3.6/dist-packages/tensorflow/python/ops/math_ops.py:3066: to_int32 (from tensorflow.python.ops.math_ops) is deprecated and will be removed in a future version.\n",
      "Instructions for updating:\n",
      "Use tf.cast instead.\n",
      "Epoch 1/16\n",
      "5000/5000 [==============================] - 143s 29ms/step - loss: 1.9127\n",
      "Epoch 2/16\n",
      "5000/5000 [==============================] - 129s 26ms/step - loss: 0.5486\n",
      "Epoch 3/16\n",
      "5000/5000 [==============================] - 129s 26ms/step - loss: 0.4013\n",
      "Epoch 4/16\n",
      "5000/5000 [==============================] - 129s 26ms/step - loss: 0.3389\n",
      "Epoch 5/16\n",
      "5000/5000 [==============================] - 129s 26ms/step - loss: 0.2316\n",
      "Epoch 6/16\n",
      "5000/5000 [==============================] - 129s 26ms/step - loss: 0.1478\n",
      "Epoch 7/16\n",
      "5000/5000 [==============================] - 129s 26ms/step - loss: 0.1243\n",
      "Epoch 8/16\n",
      "5000/5000 [==============================] - 129s 26ms/step - loss: 0.1138\n",
      "Epoch 9/16\n",
      "5000/5000 [==============================] - 129s 26ms/step - loss: 0.1128\n",
      "Epoch 10/16\n",
      "5000/5000 [==============================] - 129s 26ms/step - loss: 0.0984\n",
      "Epoch 11/16\n",
      "5000/5000 [==============================] - 129s 26ms/step - loss: 0.0823\n",
      "Epoch 12/16\n",
      "5000/5000 [==============================] - 129s 26ms/step - loss: 0.0973\n",
      "Epoch 13/16\n",
      "5000/5000 [==============================] - 129s 26ms/step - loss: 0.0930\n",
      "Epoch 14/16\n",
      "5000/5000 [==============================] - 129s 26ms/step - loss: 0.1014\n",
      "Epoch 15/16\n",
      "5000/5000 [==============================] - 129s 26ms/step - loss: 0.1059\n",
      "Epoch 16/16\n",
      "5000/5000 [==============================] - 129s 26ms/step - loss: 0.0820\n",
      "{'loss': [1.9126977455615997, 0.5485605350494385, 0.40129702382087706, 0.33889543170928954, 0.23161347633600235, 0.14776778037548066, 0.12433810923099518, 0.11383987048864365, 0.11280250778198242, 0.09843077135086059, 0.0822512270450592, 0.09727577967643737, 0.09304985692501068, 0.1014194540977478, 0.10593613952994346, 0.082047474360466]}\n"
     ]
    },
    {
     "data": {
      "image/png": "[encoded data removed]",
      "text/plain": [
       "<Figure size 576x396 with 1 Axes>"
      ]
     },
     "metadata": {
      "tags": []
     },
     "output_type": "display_data"
    },
    {
     "name": "stdout",
     "output_type": "stream",
     "text": [
      "500/500 [==============================] - 10s 21ms/step\n",
      "0.47338932633399966\n"
     ]
    }
   ],
   "source": [
    "#ResNet50模型训练网络\n",
    "#import tensorflow as tf\n",
    "from keras.models import Sequential\n",
    "from keras.layers import Dense, Activation, convolutional, pooling, Flatten, Dropout\n",
    "from keras.optimizers import Adam\n",
    "from keras.utils.np_utils import to_categorical\n",
    "import numpy as np\n",
    "from keras.utils import plot_model\n",
    "from keras.applications import ResNet50\n",
    "import matplotlib.pyplot as plt\n",
    "\n",
    "#tf.test.gpu_device_name()\n",
    "\n",
    "def show_history(history0):  # 绘制图像\n",
    "    plt.plot(history0.history['loss'])\n",
    "    #plt.plot(history0.history['val_acc'])\n",
    "    plt.title('Model Loss')\n",
    "    plt.ylabel('loss')\n",
    "    plt.xlabel('Epoch')\n",
    "    plt.legend(['Train', 'Test'], loc='upper left')\n",
    "    plt.savefig('drive/app/022401.jpg')\n",
    "    plt.show()\n",
    "\n",
    "\n",
    "X = np.load('drive/app/X_data.npy')\n",
    "Y = np.load('drive/app/Y_data.npy')\n",
    "#X = np.swapaxes(X, 1, 3)\n",
    "#Y = to_categorical(Y, num_classes=None)\n",
    "X = X / 25\n",
    "# print(X[0][0])\n",
    "\n",
    "print(\"read the data\")\n",
    "\n",
    "# print(X)\n",
    "# print(Y)\n",
    "\n",
    "\n",
    "# 切片，统一数量级\n",
    "x_train = X[:5000]\n",
    "y_train = Y[:5000]\n",
    "x_test = X[5000:]\n",
    "y_test = Y[5000:]\n",
    "print(\"train data and test data\")\n",
    "\n",
    "resnet = ResNet50(include_top=False,input_shape=(220,220,3), pooling='avg')\n",
    "model = Sequential()\n",
    "model.add(resnet)\n",
    "model.add(Dense(1))\n",
    "\n",
    "#model.layers[0].trainable = False#设置ResNet50不可训练\n",
    "\n",
    "#print(resnet.summary())\n",
    "print(model.summary())\n",
    "\n",
    "print(\"compile\")\n",
    "model.compile(loss='mean_squared_error', optimizer=Adam())\n",
    "\n",
    "print(\"fit\")\n",
    "\n",
    "Hist = model.fit(x_train, y_train, epochs=16, batch_size=64)\n",
    "print(Hist.history)\n",
    "show_history(Hist)\n",
    "\n",
    "loss_and_metrics = model.evaluate(x_test, y_test, batch_size=128)\n",
    "print(loss_and_metrics)\n",
    "\n",
    "model.save('drive/app/my_model.h5')"
   ]
  },
  {
   "cell_type": "code",
   "execution_count": 1,
   "metadata": {
    "id": "QiUIE3drq1_Z",
    "colab_type": "code",
    "colab": {
     "base_uri": "https://localhost:8080/",
     "height": 539.0
    },
    "outputId": "57bf62d5-1b39-436b-a1b2-28f19839f695"
   },
   "outputs": [
    {
     "name": "stderr",
     "output_type": "stream",
     "text": [
      "Using TensorFlow backend.\n"
     ]
    },
    {
     "name": "stdout",
     "output_type": "stream",
     "text": [
      "read\n",
      "WARNING:tensorflow:From /usr/local/lib/python3.6/dist-packages/tensorflow/python/framework/op_def_library.py:263: colocate_with (from tensorflow.python.framework.ops) is deprecated and will be removed in a future version.\n",
      "Instructions for updating:\n",
      "Colocations handled automatically by placer.\n",
      "WARNING:tensorflow:From /usr/local/lib/python3.6/dist-packages/tensorflow/python/ops/math_ops.py:3066: to_int32 (from tensorflow.python.ops.math_ops) is deprecated and will be removed in a future version.\n",
      "Instructions for updating:\n",
      "Use tf.cast instead.\n"
     ]
    },
    {
     "data": {
      "image/png": "[encoded data removed]",
      "text/plain": [
       "<Figure size 576x396 with 1 Axes>"
      ]
     },
     "metadata": {
      "tags": []
     },
     "output_type": "display_data"
    }
   ],
   "source": [
    "from keras.models import Sequential\n",
    "from keras.models import load_model\n",
    "import numpy as np\n",
    "import matplotlib.pyplot as plt\n",
    "\n",
    "X = np.load('drive/app/X_data.npy')\n",
    "Y = np.load('drive/app/Y_data.npy')\n",
    "X = X / 25\n",
    "print(\"read\")\n",
    "x_test = X[5000:]\n",
    "y_test = Y[5000:]\n",
    "\n",
    "model=Sequential()\n",
    "model=load_model('drive/app/my_model.h5')\n",
    "\n",
    "y_pre=model.predict(x_test, batch_size=None, verbose=0, steps=None)\n",
    "\n",
    "plt.title(\"test\")\n",
    "plt.xlabel(\"y_test\")\n",
    "plt.ylabel(\"y_pre\")\n",
    "plt.scatter(y_test,y_pre)\n",
    "#plt.plot(x_test,x_pre,\"ob\")\n",
    "plt.savefig('drive/app/022402.jpg')\n",
    "plt.show()"
   ]
  }
 ],
 "metadata": {
  "colab": {
   "name": "run2.ipynb",
   "version": "0.3.2",
   "provenance": [],
   "include_colab_link": true
  },
  "kernelspec": {
   "name": "python3",
   "display_name": "Python 3"
  },
  "accelerator": "GPU"
 },
 "nbformat": 4,
 "nbformat_minor": 0
}
